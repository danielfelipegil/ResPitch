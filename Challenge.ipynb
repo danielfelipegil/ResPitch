{
 "cells": [
  {
   "cell_type": "markdown",
   "metadata": {},
   "source": [
    "# Challenge: Marketing Research Resbaz Co.\n",
    "We are going to set up 3 teams. Each team will be assigned with a product, let's see what you can tell me about that product, I will probably be interested in one specific feature."
   ]
  },
  {
   "cell_type": "code",
   "execution_count": null,
   "metadata": {},
   "outputs": [],
   "source": [
    "# Load NLTK library \n",
    "import nltk\n",
    "nltk.download('product_reviews_1')\n",
    "from nltk.corpus import product_reviews_1"
   ]
  },
  {
   "cell_type": "markdown",
   "metadata": {},
   "source": [
    "<b>Remember:</b> We have accessed the corpus product_reviews_1 which comes with NLTK by default. Come to the next workshop to learn how to access the text you are using in your research"
   ]
  },
  {
   "cell_type": "code",
   "execution_count": 59,
   "metadata": {},
   "outputs": [
    {
     "data": {
      "text/plain": [
       "['Apex_AD2600_Progressive_scan_DVD player.txt',\n",
       " 'Canon_G3.txt',\n",
       " 'Creative_Labs_Nomad_Jukebox_Zen_Xtra_40GB.txt',\n",
       " 'Nikon_coolpix_4300.txt',\n",
       " 'Nokia_6610.txt',\n",
       " 'README.txt']"
      ]
     },
     "execution_count": 59,
     "metadata": {},
     "output_type": "execute_result"
    }
   ],
   "source": [
    "# list of products available\n",
    "product_reviews_1.fileids()"
   ]
  },
  {
   "cell_type": "markdown",
   "metadata": {},
   "source": [
    "Select one of the products and access the corpus, provide your insights to your client, see below what the client is interested to discover:<br/>\n",
    "\n",
    "- Team 1: DVD Player <br/>\n",
    "\"I'm interested to find out what customers think about the <b>price</b>, can you tell me a couple of insights about it? I'm actually planning to increase the price\"<br/>\n",
    "- Team 2: Canon G3 <br/>\n",
    "\"Can you tell me if <b>picture</b> is one of the features the customers are interested? if so, can you tell me if they will recomend this camera because of their picture quality?\"<br/>\n",
    "- Team 3: Nokia 6610 <br/>\n",
    "\"<b>battery</b> is always in user's top of mind when they are buying a phone, do we any have reviews about this product's battery? I'm planning to run some ads promoting the battery, do you think it's a good battery compared to other phones in the market?\""
   ]
  },
  {
   "cell_type": "code",
   "execution_count": null,
   "metadata": {},
   "outputs": [],
   "source": [
    "# select the product and access the corpus\n",
    "product_file='WRITE HERE THE PRODUCT YOU ARE GOING TO ANALYZE'\n",
    "reviews = product_reviews_1.reviews(product_file)"
   ]
  },
  {
   "cell_type": "code",
   "execution_count": 53,
   "metadata": {},
   "outputs": [],
   "source": [
    "# preprocess the corpus and use the POS tag to extract the words you are interested. In this case the nouns (NN)\n",
    "from nltk.corpus import stopwords\n",
    "stop_words=set(stopwords.words('english'))\n",
    "words=[]\n",
    "for review in reviews:\n",
    "    for sent in review.sents():\n",
    "        tagged_words=nltk.pos_tag(sent)\n",
    "        for word_tag in tagged_words:\n",
    "            if word_tag[1]=='WRITE HERE YOUR POS TAG'and word_tag[0] not in stop_words:\n",
    "                words.append(word_tag[0])"
   ]
  },
  {
   "cell_type": "code",
   "execution_count": 54,
   "metadata": {},
   "outputs": [],
   "source": [
    "fd=nltk. # WRITE HERE THE NLTK FUNCTION TO CREATE A FREQUENCY DISTRIBUTION OF WORDS\n",
    "\n",
    "# hint: You can press TAB key with your cursor after the period to find all functions available (case sensitive)"
   ]
  },
  {
   "cell_type": "code",
   "execution_count": 58,
   "metadata": {},
   "outputs": [
    {
     "data": {
      "text/plain": [
       "[]"
      ]
     },
     "execution_count": 58,
     "metadata": {},
     "output_type": "execute_result"
    }
   ],
   "source": [
    "fd. # WRITE HERE THE NLTK FUNCTION TO FIND THE 1O MOST COMMON WORDS"
   ]
  },
  {
   "cell_type": "code",
   "execution_count": 56,
   "metadata": {},
   "outputs": [],
   "source": [
    "text=nltk.Text(product_reviews_1.words(product_file))"
   ]
  },
  {
   "cell_type": "code",
   "execution_count": null,
   "metadata": {},
   "outputs": [],
   "source": [
    "# Use here the word you want to observe the context\n",
    "text. # WRITE THE NLTK FUNCTION TO FIND THE CONTEXT AROUND A WORD"
   ]
  },
  {
   "cell_type": "code",
   "execution_count": 1,
   "metadata": {},
   "outputs": [],
   "source": [
    "# if you have time, try to do the same thing with adjectives and explore what people is saying about the product"
   ]
  },
  {
   "cell_type": "code",
   "execution_count": null,
   "metadata": {},
   "outputs": [],
   "source": []
  }
 ],
 "metadata": {
  "kernelspec": {
   "display_name": "Python [conda env:anaconda]",
   "language": "python",
   "name": "conda-env-anaconda-py"
  },
  "language_info": {
   "codemirror_mode": {
    "name": "ipython",
    "version": 3
   },
   "file_extension": ".py",
   "mimetype": "text/x-python",
   "name": "python",
   "nbconvert_exporter": "python",
   "pygments_lexer": "ipython3",
   "version": "3.5.5"
  },
  "latex_envs": {
   "LaTeX_envs_menu_present": true,
   "autoclose": false,
   "autocomplete": true,
   "bibliofile": "biblio.bib",
   "cite_by": "apalike",
   "current_citInitial": 1,
   "eqLabelWithNumbers": true,
   "eqNumInitial": 1,
   "hotkeys": {
    "equation": "Ctrl-E",
    "itemize": "Ctrl-I"
   },
   "labels_anchors": false,
   "latex_user_defs": false,
   "report_style_numbering": false,
   "user_envs_cfg": false
  },
  "toc": {
   "nav_menu": {},
   "number_sections": true,
   "sideBar": true,
   "skip_h1_title": false,
   "title_cell": "Table of Contents",
   "title_sidebar": "Contents",
   "toc_cell": false,
   "toc_position": {},
   "toc_section_display": true,
   "toc_window_display": false
  }
 },
 "nbformat": 4,
 "nbformat_minor": 2
}
