{
 "cells": [
  {
   "cell_type": "markdown",
   "metadata": {},
   "source": [
    "# Challenge: Marketing Research Resbaz Co.\n",
    "We are going to set up 3 teams. Each team will be assigned with a product, let's see what you can tell me about that product, I will probably be interested in one specific feature."
   ]
  },
  {
   "cell_type": "code",
   "execution_count": 15,
   "metadata": {},
   "outputs": [
    {
     "name": "stdout",
     "output_type": "stream",
     "text": [
      "[nltk_data] Downloading package product_reviews_1 to\n",
      "[nltk_data]     /Users/danielgil/nltk_data...\n",
      "[nltk_data]   Package product_reviews_1 is already up-to-date!\n"
     ]
    }
   ],
   "source": [
    "# Load NLTK library \n",
    "import nltk\n",
    "nltk.download('product_reviews_1')\n",
    "from nltk.corpus import product_reviews_1"
   ]
  },
  {
   "cell_type": "markdown",
   "metadata": {},
   "source": [
    "<b>Remember:</b> We have accessed the corpus product_reviews_1 which comes with NLTK by default. Come to the next workshop to learn how to access the text you are using in your research"
   ]
  },
  {
   "cell_type": "code",
   "execution_count": 16,
   "metadata": {},
   "outputs": [
    {
     "data": {
      "text/plain": [
       "['Apex_AD2600_Progressive_scan_DVD player.txt',\n",
       " 'Canon_G3.txt',\n",
       " 'Creative_Labs_Nomad_Jukebox_Zen_Xtra_40GB.txt',\n",
       " 'Nikon_coolpix_4300.txt',\n",
       " 'Nokia_6610.txt',\n",
       " 'README.txt']"
      ]
     },
     "execution_count": 16,
     "metadata": {},
     "output_type": "execute_result"
    }
   ],
   "source": [
    "# list of products available\n",
    "product_reviews_1.fileids()"
   ]
  },
  {
   "cell_type": "markdown",
   "metadata": {},
   "source": [
    "Select one of the products and access the corpus, provide your insights to your client, see below what the client is interested to discover:<br/>\n",
    "\n",
    "- Team 1: DVD Player <br/>\n",
    "\"I'm interested to find out what customers think about the <b>price</b>, can you tell me a couple of insights about it? I'm actually planning to increase the price\"<br/>\n",
    "- Team 2: Canon G3 <br/>\n",
    "\"Can you tell me if <b>picture</b> is one of the features the customers are interested? if so, can you tell me if they will recomend this camera because of their picture quality?\"<br/>\n",
    "- Team 3: Nokia 6610 <br/>\n",
    "\"<b>battery</b> is always in user's top of mind when they are buying a phone, do we any have reviews about this product's battery? I'm planning to run some ads promoting the battery, do you think it's a good battery compared to other phones in the market?\""
   ]
  },
  {
   "cell_type": "code",
   "execution_count": 17,
   "metadata": {},
   "outputs": [],
   "source": [
    "# select the product and access the corpus\n",
    "product_file='Nokia_6610.txt'\n",
    "reviews = product_reviews_1.reviews(product_file)"
   ]
  },
  {
   "cell_type": "code",
   "execution_count": 18,
   "metadata": {},
   "outputs": [
    {
     "name": "stdout",
     "output_type": "stream",
     "text": [
      "[nltk_data] Downloading package stopwords to\n",
      "[nltk_data]     /Users/danielgil/nltk_data...\n",
      "[nltk_data]   Package stopwords is already up-to-date!\n",
      "[nltk_data] Downloading package averaged_perceptron_tagger to\n",
      "[nltk_data]     /Users/danielgil/nltk_data...\n",
      "[nltk_data]   Package averaged_perceptron_tagger is already up-to-\n",
      "[nltk_data]       date!\n"
     ]
    }
   ],
   "source": [
    "# preprocess the corpus and use the POS tag to extract the words you are interested. In this case the nouns (NN)\n",
    "from nltk.corpus import stopwords\n",
    "nltk.download('stopwords')\n",
    "nltk.download('averaged_perceptron_tagger')\n",
    "stop_words=set(stopwords.words('english'))\n",
    "words=[]\n",
    "for review in reviews:\n",
    "    for sent in review.sents():\n",
    "        tagged_words=nltk.pos_tag(sent)\n",
    "        for word_tag in tagged_words:\n",
    "            if word_tag[1]=='NN'and word_tag[0] not in stop_words:\n",
    "                words.append(word_tag[0])"
   ]
  },
  {
   "cell_type": "code",
   "execution_count": 19,
   "metadata": {},
   "outputs": [],
   "source": [
    "fd=nltk.FreqDist(words) # WRITE HERE THE NLTK FUNCTION TO CREATE A FREQUENCY DISTRIBUTION OF WORDS\n"
   ]
  },
  {
   "cell_type": "code",
   "execution_count": 20,
   "metadata": {},
   "outputs": [
    {
     "data": {
      "text/plain": [
       "[('phone', 211),\n",
       " ('mobile', 33),\n",
       " ('service', 24),\n",
       " ('radio', 24),\n",
       " ('quality', 21),\n",
       " ('battery', 19),\n",
       " ('speakerphone', 19),\n",
       " ('screen', 17),\n",
       " ('camera', 13),\n",
       " ('life', 13)]"
      ]
     },
     "execution_count": 20,
     "metadata": {},
     "output_type": "execute_result"
    }
   ],
   "source": [
    "fd.most_common(10) # WRITE HERE THE NLTK FUNCTION TO FIND THE 1O MOST COMMON WORDS"
   ]
  },
  {
   "cell_type": "code",
   "execution_count": 21,
   "metadata": {},
   "outputs": [],
   "source": [
    "text=nltk.Text(product_reviews_1.words(product_file))"
   ]
  },
  {
   "cell_type": "code",
   "execution_count": 22,
   "metadata": {},
   "outputs": [
    {
     "name": "stdout",
     "output_type": "stream",
     "text": [
      "Displaying 20 of 20 matches:\n",
      "other person ! on the up - side , the phone has amazing battery life . i do like this phone overall ( would give it a 3\n",
      " i have had this phone for about 5 months . i treat the battery well and it has lasted . at my heaviest usage , i must \n",
      "making very few calls . signal strength will affect the battery life . frequent signal searches eat up battery power . \n",
      "fect the battery life . frequent signal searches eat up battery power . i took great care of the screen , till i realiz\n",
      "is has been my favorite phone that i have owned . great battery life , perfect size , but a tid bit quieter than i woul\n",
      "ts wo n ' t be bulging with this phone in your pocket . battery life : the battery life on this phone is surreal . it l\n",
      "ing with this phone in your pocket . battery life : the battery life on this phone is surreal . it lasts , truly , 7 da\n",
      "used the speakerphone for almost two hours once and the battery did not even go down one single bar . it is amazing tha\n",
      "ot even go down one single bar . it is amazing that the battery lasts so long when the phone is so small and light . th\n",
      "t , visible screen - speakerphone - very long - lasting battery life cons : - some features in the user interface - no \n",
      "cially if you have owned a previous model nokia phone . battery life is very good , i use it every day and i have to ch\n",
      "t whistles and bells , but is also the hardest to use . battery : the nokia , samsung and the sony phones can all last \n",
      "' t talk too much . the motorolla phone have a horrible battery which lasts about a day ( although i heard that the mot\n",
      "ough i heard that the motorolla t722i has a much longer battery life ) . features : the t610 has the most functionality\n",
      " the phone is small , light , and very attractive . the battery life is amazing . the color screen is a plus , as are t\n",
      " very light phone - a little less than 3 oz , with long battery life ( not as long as the new polymer technology ) . on\n",
      "off key is small and difficult to press . however , the battery life is good enough you should n ' t be overly concerne\n",
      "etter than anything motorola can produce . it has great battery life , fm radio , excellent signal , hands free speaker\n",
      "stereo headphones to listen to the radio in style . the battery is alot better than most of the phones out there . one \n",
      "n nokia to provide me with good games on their phones . battery life is good for a phone of this size . but anyway , th\n"
     ]
    }
   ],
   "source": [
    "# Use here the word you want to observe the context\n",
    "text.concordance('battery',width=120, lines=25) # WRITE THE NLTK FUNCTION TO FIND THE CONTEXT AROUND A WORD"
   ]
  },
  {
   "cell_type": "code",
   "execution_count": 23,
   "metadata": {},
   "outputs": [],
   "source": [
    "# if you have time, try to do the same thing with adjectives and explore what people is saying about the product"
   ]
  },
  {
   "cell_type": "code",
   "execution_count": null,
   "metadata": {},
   "outputs": [],
   "source": []
  }
 ],
 "metadata": {
  "kernelspec": {
   "display_name": "Python [conda env:anaconda]",
   "language": "python",
   "name": "conda-env-anaconda-py"
  },
  "language_info": {
   "codemirror_mode": {
    "name": "ipython",
    "version": 3
   },
   "file_extension": ".py",
   "mimetype": "text/x-python",
   "name": "python",
   "nbconvert_exporter": "python",
   "pygments_lexer": "ipython3",
   "version": "3.5.5"
  },
  "latex_envs": {
   "LaTeX_envs_menu_present": true,
   "autoclose": false,
   "autocomplete": true,
   "bibliofile": "biblio.bib",
   "cite_by": "apalike",
   "current_citInitial": 1,
   "eqLabelWithNumbers": true,
   "eqNumInitial": 1,
   "hotkeys": {
    "equation": "Ctrl-E",
    "itemize": "Ctrl-I"
   },
   "labels_anchors": false,
   "latex_user_defs": false,
   "report_style_numbering": false,
   "user_envs_cfg": false
  },
  "toc": {
   "nav_menu": {},
   "number_sections": true,
   "sideBar": true,
   "skip_h1_title": false,
   "title_cell": "Table of Contents",
   "title_sidebar": "Contents",
   "toc_cell": false,
   "toc_position": {},
   "toc_section_display": true,
   "toc_window_display": false
  }
 },
 "nbformat": 4,
 "nbformat_minor": 2
}
