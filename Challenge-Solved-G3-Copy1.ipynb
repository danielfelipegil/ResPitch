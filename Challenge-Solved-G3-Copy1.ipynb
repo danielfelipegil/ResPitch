{
 "cells": [
  {
   "cell_type": "markdown",
   "metadata": {},
   "source": [
    "# Challenge: Marketing Research Resbaz Co.\n",
    "We are going to set up 3 teams. Each team will be assigned with a product, let's see what you can tell me about that product, I will probably be interested in one specific feature."
   ]
  },
  {
   "cell_type": "code",
   "execution_count": 1,
   "metadata": {},
   "outputs": [
    {
     "name": "stdout",
     "output_type": "stream",
     "text": [
      "[nltk_data] Downloading package product_reviews_1 to\n",
      "[nltk_data]     /Users/danielgil/nltk_data...\n",
      "[nltk_data]   Package product_reviews_1 is already up-to-date!\n"
     ]
    }
   ],
   "source": [
    "# Load NLTK library \n",
    "import nltk\n",
    "nltk.download('product_reviews_1')\n",
    "from nltk.corpus import product_reviews_1"
   ]
  },
  {
   "cell_type": "markdown",
   "metadata": {},
   "source": [
    "<b>Remember:</b> We have accessed the corpus product_reviews_1 which comes with NLTK by default. Come to the next workshop to learn how to access the text you are using in your research"
   ]
  },
  {
   "cell_type": "code",
   "execution_count": 2,
   "metadata": {},
   "outputs": [
    {
     "data": {
      "text/plain": [
       "['Apex_AD2600_Progressive_scan_DVD player.txt',\n",
       " 'Canon_G3.txt',\n",
       " 'Creative_Labs_Nomad_Jukebox_Zen_Xtra_40GB.txt',\n",
       " 'Nikon_coolpix_4300.txt',\n",
       " 'Nokia_6610.txt',\n",
       " 'README.txt']"
      ]
     },
     "execution_count": 2,
     "metadata": {},
     "output_type": "execute_result"
    }
   ],
   "source": [
    "# list of products available\n",
    "product_reviews_1.fileids()"
   ]
  },
  {
   "cell_type": "markdown",
   "metadata": {},
   "source": [
    "Select one of the products and access the corpus, provide your insights to your client, see below what the client is interested to discover:<br/>\n",
    "\n",
    "- Team 1: DVD Player <br/>\n",
    "\"I'm interested to find out what customers think about the <b>price</b>, can you tell me a couple of insights about it? I'm actually planning to increase the price\"<br/>\n",
    "- Team 2: Canon G3 <br/>\n",
    "\"Can you tell me if <b>picture</b> is one of the features the customers are interested? if so, can you tell me if they will recomend this camera because of their picture quality?\"<br/>\n",
    "- Team 3: Nokia 6610 <br/>\n",
    "\"<b>battery</b> is always in user's top of mind when they are buying a phone, do we any have reviews about this product's battery? I'm planning to run some ads promoting the battery, do you think it's a good battery compared to other phones in the market?\""
   ]
  },
  {
   "cell_type": "code",
   "execution_count": 3,
   "metadata": {},
   "outputs": [],
   "source": [
    "# select the product and access the corpus\n",
    "product_file='Canon_G3.txt'\n",
    "reviews = product_reviews_1.reviews(product_file)"
   ]
  },
  {
   "cell_type": "code",
   "execution_count": 4,
   "metadata": {},
   "outputs": [
    {
     "name": "stdout",
     "output_type": "stream",
     "text": [
      "[nltk_data] Downloading package stopwords to\n",
      "[nltk_data]     /Users/danielgil/nltk_data...\n",
      "[nltk_data]   Package stopwords is already up-to-date!\n",
      "[nltk_data] Downloading package averaged_perceptron_tagger to\n",
      "[nltk_data]     /Users/danielgil/nltk_data...\n",
      "[nltk_data]   Package averaged_perceptron_tagger is already up-to-\n",
      "[nltk_data]       date!\n"
     ]
    }
   ],
   "source": [
    "# preprocess the corpus and use the POS tag to extract the words you are interested. In this case the nouns (NN)\n",
    "from nltk.corpus import stopwords\n",
    "nltk.download('stopwords')\n",
    "nltk.download('averaged_perceptron_tagger')\n",
    "stop_words=set(stopwords.words('english'))\n",
    "words=[]\n",
    "for review in reviews:\n",
    "    for sent in review.sents():\n",
    "        tagged_words=nltk.pos_tag(sent)\n",
    "        for word_tag in tagged_words:\n",
    "            if word_tag[1]=='NN'and word_tag[0] not in stop_words:\n",
    "                words.append(word_tag[0])"
   ]
  },
  {
   "cell_type": "code",
   "execution_count": 5,
   "metadata": {},
   "outputs": [],
   "source": [
    "fd=nltk.FreqDist(words) # WRITE HERE THE NLTK FUNCTION TO CREATE A FREQUENCY DISTRIBUTION OF WORDS\n",
    "\n",
    "# hint: You can press TAB key with your cursor after the period to find all functions available (case sensitive)"
   ]
  },
  {
   "cell_type": "code",
   "execution_count": 6,
   "metadata": {},
   "outputs": [
    {
     "data": {
      "text/plain": [
       "[('camera', 181),\n",
       " ('g3', 73),\n",
       " ('canon', 49),\n",
       " ('quality', 38),\n",
       " ('time', 37),\n",
       " ('flash', 29),\n",
       " ('battery', 25),\n",
       " ('picture', 24),\n",
       " ('lcd', 19),\n",
       " ('film', 18)]"
      ]
     },
     "execution_count": 6,
     "metadata": {},
     "output_type": "execute_result"
    }
   ],
   "source": [
    "fd.most_common(10) # WRITE HERE THE NLTK FUNCTION TO FIND THE 1O MOST COMMON WORDS"
   ]
  },
  {
   "cell_type": "code",
   "execution_count": 7,
   "metadata": {},
   "outputs": [],
   "source": [
    "text=nltk.Text(product_reviews_1.words(product_file))"
   ]
  },
  {
   "cell_type": "code",
   "execution_count": 8,
   "metadata": {},
   "outputs": [
    {
     "name": "stdout",
     "output_type": "stream",
     "text": [
      "Displaying 25 of 25 matches:\n",
      "t on a recent trip this past week i was asked to take a picture of a vacationing elderly group . after i took their pic\n",
      "ure of a vacationing elderly group . after i took their picture with their camera , they offered to take a picture of u\n",
      "heir picture with their camera , they offered to take a picture of us . i just told them , press halfway , wait for the\n",
      "and press the rest of the way . they fired away and the picture turned out quite nicely . ( as all of my pictures have \n",
      "uants owned the g2 and highly recommended the canon for picture quality . i ' m easily enlarging pictures to 8 1 / 2 x \n",
      "arging pictures to 8 1 / 2 x 11 with no visable loss in picture quality and not even using the best possible setting as\n",
      "t i am very pleased with the features , the speed , the picture quality , the flexibility , the automation , and the fu\n",
      "he automatic settings , i really have n ' t taken a bad picture yet . and with the panoramic \" stitch \" mode , it guide\n",
      "exposure settings on the lcd screen before you take the picture , not two weeks later when you get the film developed .\n",
      "n any direction for easy pictures . you can even take a picture of yourself while looking at the lcd . the optical zoom\n",
      "get used to it \" , here are my first feelings : a ) the picture quality ( color and sharpness of focusing ) are so grea\n",
      "e light auto - correction is awesome . you could take a picture of a stone glinting in the sun and still avoid the shin\n",
      "d problems focusing in low light and would not take the picture when the shutter was pressed but after the shutter had \n",
      "n pressing the shutter button and the camera taking the picture . no one told me , but i wanted to tell you . this is n\n",
      "n up against it ' s major flaw : it sometimes takes the picture at some indefinite period of time after you press the s\n",
      "ss the shutter button . i am not talking milliseconds . picture this : your child is going to do a cannonball off the d\n",
      "cuses in a snap . dim or bright , it would never take a picture after the birthday candles had blown out , after the ta\n",
      "d be a nice compromise between jpeg and raw . to save a picture as raw , you have to have the display on , this seems l\n",
      "parallax phenomenon ; that is what lmost exactly ot the picture . moving the viewfinder elsewhere on the camera will re\n",
      "h ( enough for 255 shots at full 4mp resolution and max picture quality ) and a used $ 250 3lb subnotebook with usb con\n",
      "his g3 . it ' s a winner . i ' ve been pleased with the picture quality and durability in snow , car , boat and wind . \n",
      "iewfinder ( not the lcd ) the bottom left corner of the picture ( about 15 % ) is blocked by the lens . i called the ca\n",
      "casionally use the view finder and trying to frame in a picture with the lens blocking the view is too much . i ' m sen\n",
      "e the pictures . the larger lens of the g3 gives better picture quality in low light , and the 4 - times optical zooms \n",
      "d in fact beats the nikon coolpix 5000 in performance ( picture quality and battery life ) -- which is amazing because \n"
     ]
    }
   ],
   "source": [
    "# Use here the word you want to observe the context\n",
    "text.concordance('picture',width=120, lines=25) # WRITE THE NLTK FUNCTION TO FIND THE CONTEXT AROUND A WORD"
   ]
  },
  {
   "cell_type": "code",
   "execution_count": 8,
   "metadata": {},
   "outputs": [],
   "source": [
    "# if you have time, try to do the same thing with adjectives and explore what people is saying about the product"
   ]
  },
  {
   "cell_type": "code",
   "execution_count": null,
   "metadata": {},
   "outputs": [],
   "source": []
  }
 ],
 "metadata": {
  "kernelspec": {
   "display_name": "Python [conda env:anaconda]",
   "language": "python",
   "name": "conda-env-anaconda-py"
  },
  "language_info": {
   "codemirror_mode": {
    "name": "ipython",
    "version": 3
   },
   "file_extension": ".py",
   "mimetype": "text/x-python",
   "name": "python",
   "nbconvert_exporter": "python",
   "pygments_lexer": "ipython3",
   "version": "3.5.5"
  },
  "latex_envs": {
   "LaTeX_envs_menu_present": true,
   "autoclose": false,
   "autocomplete": true,
   "bibliofile": "biblio.bib",
   "cite_by": "apalike",
   "current_citInitial": 1,
   "eqLabelWithNumbers": true,
   "eqNumInitial": 1,
   "hotkeys": {
    "equation": "Ctrl-E",
    "itemize": "Ctrl-I"
   },
   "labels_anchors": false,
   "latex_user_defs": false,
   "report_style_numbering": false,
   "user_envs_cfg": false
  },
  "toc": {
   "nav_menu": {},
   "number_sections": true,
   "sideBar": true,
   "skip_h1_title": false,
   "title_cell": "Table of Contents",
   "title_sidebar": "Contents",
   "toc_cell": false,
   "toc_position": {},
   "toc_section_display": true,
   "toc_window_display": false
  }
 },
 "nbformat": 4,
 "nbformat_minor": 2
}
