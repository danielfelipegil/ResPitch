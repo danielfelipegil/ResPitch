{
 "cells": [
  {
   "cell_type": "markdown",
   "metadata": {},
   "source": [
    "# Challenge: Marketing Research Resbaz Co.\n",
    "We are going to set up 3 teams. Each team will be assigned with a product, let's see what you can tell me about that product, I will probably be interested in one specific feature."
   ]
  },
  {
   "cell_type": "code",
   "execution_count": 3,
   "metadata": {},
   "outputs": [],
   "source": [
    "# Load NLTK library \n",
    "import nltk\n",
    "nltk.download('product_reviews_1')\n",
    "from nltk.corpus import product_reviews_1"
   ]
  },
  {
   "cell_type": "markdown",
   "metadata": {},
   "source": [
    "<b>Remember:</b> We have accessed the corpus product_reviews_1 which comes with NLTK by default. Come to the next workshop to learn how to access the text you are using in your research"
   ]
  },
  {
   "cell_type": "code",
   "execution_count": 4,
   "metadata": {},
   "outputs": [
    {
     "data": {
      "text/plain": [
       "['Apex_AD2600_Progressive_scan_DVD player.txt',\n",
       " 'Canon_G3.txt',\n",
       " 'Creative_Labs_Nomad_Jukebox_Zen_Xtra_40GB.txt',\n",
       " 'Nikon_coolpix_4300.txt',\n",
       " 'Nokia_6610.txt',\n",
       " 'README.txt']"
      ]
     },
     "execution_count": 4,
     "metadata": {},
     "output_type": "execute_result"
    }
   ],
   "source": [
    "# list of products available\n",
    "product_reviews_1.fileids()"
   ]
  },
  {
   "cell_type": "markdown",
   "metadata": {},
   "source": [
    "Select one of the products and access the corpus, provide your insights to your client, see below what the client is interested to discover:<br/>\n",
    "\n",
    "- Team 1: DVD Player <br/>\n",
    "\"I'm interested to find out what customers think about the <b>price</b>, can you tell me a couple of insights about it? I'm actually planning to increase the price\"<br/>\n",
    "- Team 2: Canon G3 <br/>\n",
    "\"Can you tell me if <b>picture</b> is one of the features the customers are interested? if so, can you tell me if they will recomend this camera because of their picture quality?\"<br/>\n",
    "- Team 3: Nokia 6610 <br/>\n",
    "\"<b>battery</b> is always in user's top of mind when they are buying a phone, do we any have reviews about this product's battery? I'm planning to run some ads promoting the battery, do you think it's a good battery compared to other phones in the market?\""
   ]
  },
  {
   "cell_type": "code",
   "execution_count": 5,
   "metadata": {},
   "outputs": [],
   "source": [
    "# select the product and access the corpus\n",
    "product_file='Apex_AD2600_Progressive_scan_DVD player.txt'\n",
    "reviews = product_reviews_1.reviews(product_file)"
   ]
  },
  {
   "cell_type": "code",
   "execution_count": 6,
   "metadata": {},
   "outputs": [],
   "source": [
    "# preprocess the corpus and use the POS tag to extract the words you are interested. In this case the nouns (NN)\n",
    "from nltk.corpus import stopwords\n",
    "stop_words=set(stopwords.words('english'))\n",
    "words=[]\n",
    "for review in reviews:\n",
    "    for sent in review.sents():\n",
    "        tagged_words=nltk.pos_tag(sent)\n",
    "        for word_tag in tagged_words:\n",
    "            if word_tag[1]=='NN'and word_tag[0] not in stop_words:\n",
    "                words.append(word_tag[0])"
   ]
  },
  {
   "cell_type": "code",
   "execution_count": 7,
   "metadata": {},
   "outputs": [],
   "source": [
    "fd=nltk.FreqDist(words) # WRITE HERE THE NLTK FUNCTION TO CREATE A FREQUENCY DISTRIBUTION OF WORDS\n",
    "\n",
    "# hint: You can press TAB key with your cursor after the period to find all functions available (case sensitive)"
   ]
  },
  {
   "cell_type": "code",
   "execution_count": 8,
   "metadata": {},
   "outputs": [
    {
     "data": {
      "text/plain": [
       "[('dvd', 148),\n",
       " ('player', 135),\n",
       " ('apex', 56),\n",
       " ('unit', 29),\n",
       " ('picture', 28),\n",
       " ('\"', 26),\n",
       " ('dvds', 26),\n",
       " ('amazon', 26),\n",
       " ('price', 24),\n",
       " ('video', 23)]"
      ]
     },
     "execution_count": 8,
     "metadata": {},
     "output_type": "execute_result"
    }
   ],
   "source": [
    "fd.most_common(10) # WRITE HERE THE NLTK FUNCTION TO FIND THE 1O MOST COMMON WORDS"
   ]
  },
  {
   "cell_type": "code",
   "execution_count": 9,
   "metadata": {},
   "outputs": [],
   "source": [
    "text=nltk.Text(product_reviews_1.words(product_file))"
   ]
  },
  {
   "cell_type": "code",
   "execution_count": 14,
   "metadata": {},
   "outputs": [
    {
     "name": "stdout",
     "output_type": "stream",
     "text": [
      "Displaying 24 of 24 matches:\n",
      "of an occasional wwhhhrrr sound from the motor . for the price it is a well spent investment ! i would recommend buying\n",
      "s ) very well . and amazon . com has it for such a great price -- how can you go wrong ? i ' ve bought one for the den \n",
      "ter and you want a great feature set for a rock - bottom price , i highly recommend this model . update : the finish is\n",
      "the slice of a tree trunk ! this player is not worth any price and i recommend that you do n ' t purchase it . i intend\n",
      "e progressive scan feature . this model has come down in price since i purchased mine . while it seems like some people\n",
      "ny problems with it . bottom line for me is that for the price i do n ' t think you can go wrong at all by purchasing t\n",
      "c . this player has worked flawlessly for me and at this price , you can ' t go wrong . 80 % of the features on here yo\n",
      "ve high expectations for this apex player because of the price but it is definitely working out much better than what i\n",
      " a gift certificate instead ( i ' m guessing because the price has gone up on this unit since december ). good : progre\n",
      "r ). good : progressive scan player for a relatively low price ( although the better known manufacturers like toshiba ,\n",
      "ught this player during a christmas sale at an excellent price . however , i should have followed my instincts : you ge\n",
      " think , apex is the best dvd player you can get for the price . some of my friends had well branded dvd - players but \n",
      "he shipping back . what more could you ask for . for the price , it ' s a very nice dvd player . the front door is miss\n",
      "p paying $ 29 for this machine . even if i had paid full price i would have considered this a good deal . bought the ap\n",
      "ught the apex ad - 2600 from amazon in 12 / 03 mainly on price , $ 49 . 99 - $ 10 rebate = $ 39 . 99 . that was a mista\n",
      "s a few years old . of course , i was hesitant given the price , but i ' ve been extremely impressed since receiving it\n",
      "p , right back for a refund ! i was so excited about the price and reviews of this dvd player . i am even a bit technol\n",
      "t everything you throw at it . the plus points are - 1 . price 2 . ability to play most discs - i tried dvd , vcd , dvd\n",
      "' t have a dvd + r to try so . mixed bag i guess but the price was right . this is the third apex product i ' ve bought\n",
      "oduct i ' ve bought and they continue to impress for the price . it goes nicely with my apex 27 \" in my bedroom . the b\n",
      "und good ) . i paid twenty dollars more than the current price , and even then it was a steal . hooray ! think you need\n",
      "and it did . i am very pleased with this product and the price to match and have n ' t had any problems . there are rea\n",
      "half the things this one can , and for a fraction of the price ! only problem , if you think it ' s going to be deliver\n",
      " - day viewing . either way , can ' t go wrong with this price . i am really impressed by this dvd player . if it can f\n"
     ]
    }
   ],
   "source": [
    "# Use here the word you want to observe the context\n",
    "text.concordance('price', width=120, lines=25) # WRITE THE NLTK FUNCTION TO FIND THE CONTEXT AROUND A WORD"
   ]
  },
  {
   "cell_type": "code",
   "execution_count": 8,
   "metadata": {},
   "outputs": [],
   "source": [
    "# if you have time, try to do the same thing with adjectives and explore what people is saying about the product"
   ]
  },
  {
   "cell_type": "code",
   "execution_count": null,
   "metadata": {},
   "outputs": [],
   "source": []
  }
 ],
 "metadata": {
  "kernelspec": {
   "display_name": "Python [conda env:anaconda]",
   "language": "python",
   "name": "conda-env-anaconda-py"
  },
  "language_info": {
   "codemirror_mode": {
    "name": "ipython",
    "version": 3
   },
   "file_extension": ".py",
   "mimetype": "text/x-python",
   "name": "python",
   "nbconvert_exporter": "python",
   "pygments_lexer": "ipython3",
   "version": "3.5.5"
  },
  "latex_envs": {
   "LaTeX_envs_menu_present": true,
   "autoclose": false,
   "autocomplete": true,
   "bibliofile": "biblio.bib",
   "cite_by": "apalike",
   "current_citInitial": 1,
   "eqLabelWithNumbers": true,
   "eqNumInitial": 1,
   "hotkeys": {
    "equation": "Ctrl-E",
    "itemize": "Ctrl-I"
   },
   "labels_anchors": false,
   "latex_user_defs": false,
   "report_style_numbering": false,
   "user_envs_cfg": false
  },
  "toc": {
   "nav_menu": {},
   "number_sections": true,
   "sideBar": true,
   "skip_h1_title": false,
   "title_cell": "Table of Contents",
   "title_sidebar": "Contents",
   "toc_cell": false,
   "toc_position": {},
   "toc_section_display": true,
   "toc_window_display": false
  }
 },
 "nbformat": 4,
 "nbformat_minor": 2
}
