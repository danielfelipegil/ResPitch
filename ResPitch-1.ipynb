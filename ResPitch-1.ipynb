{
 "cells": [
  {
   "cell_type": "markdown",
   "metadata": {
    "nbpresent": {
     "id": "19f990a8-8f08-45cc-a598-9fe02aea7683"
    },
    "slideshow": {
     "slide_type": "slide"
    }
   },
   "source": [
    "# Natural Language Processing with NLTK\n",
    "\n",
    "Use computers to identify patterns in language and textual data"
   ]
  },
  {
   "cell_type": "markdown",
   "metadata": {
    "nbpresent": {
     "id": "2ace75cf-bc8b-4991-96c6-136eb6e34a84"
    },
    "slideshow": {
     "slide_type": "slide"
    }
   },
   "source": [
    "## Hi, I'm Daniel... \n",
    "\n",
    "<img src=\"res/about.jpg\">"
   ]
  },
  {
   "cell_type": "markdown",
   "metadata": {
    "slideshow": {
     "slide_type": "fragment"
    }
   },
   "source": [
    "\"Changing the world through small pieces of software... Understanding it through large amount of data\""
   ]
  },
  {
   "cell_type": "markdown",
   "metadata": {
    "slideshow": {
     "slide_type": "slide"
    }
   },
   "source": [
    "## Can you read a significant amount of books from last centure in short time?"
   ]
  },
  {
   "cell_type": "markdown",
   "metadata": {
    "slideshow": {
     "slide_type": "slide"
    }
   },
   "source": [
    "## NLTK can!"
   ]
  },
  {
   "cell_type": "markdown",
   "metadata": {},
   "source": [
    "<img src=\"res/ngram.png\" >"
   ]
  },
  {
   "cell_type": "markdown",
   "metadata": {},
   "source": [
    "## Let computers do the reading for you...\n",
    "<img src=\"res/search2.png\">"
   ]
  },
  {
   "cell_type": "markdown",
   "metadata": {
    "slideshow": {
     "slide_type": "slide"
    }
   },
   "source": [
    "## NLTK is making our life easier... <br/>\n",
    "<img src=\"res/receipt.jpg\">"
   ]
  },
  {
   "cell_type": "markdown",
   "metadata": {
    "slideshow": {
     "slide_type": "slide"
    }
   },
   "source": [
    "### \"COLES\" = Groceries\n",
    "\n",
    "<img src=\"res/expenses2.png\" width=\"50%\" height=\"50%\">"
   ]
  },
  {
   "cell_type": "markdown",
   "metadata": {
    "slideshow": {
     "slide_type": "slide"
    }
   },
   "source": [
    "# We read\n",
    "# We write\n",
    "# We listen\n",
    "# We speak"
   ]
  },
  {
   "cell_type": "markdown",
   "metadata": {
    "slideshow": {
     "slide_type": "slide"
    }
   },
   "source": [
    "# This is Natural Language Processing with NLTK"
   ]
  },
  {
   "cell_type": "markdown",
   "metadata": {
    "slideshow": {
     "slide_type": "fragment"
    }
   },
   "source": [
    "## \"You can work smarter, let machines work harder\" "
   ]
  },
  {
   "cell_type": "markdown",
   "metadata": {
    "slideshow": {
     "slide_type": "slide"
    }
   },
   "source": [
    "## In this session you will learn NLTK basics:\n",
    "\n"
   ]
  },
  {
   "cell_type": "markdown",
   "metadata": {
    "slideshow": {
     "slide_type": "subslide"
    }
   },
   "source": [
    "# 1) Access and preprocess text data"
   ]
  },
  {
   "cell_type": "markdown",
   "metadata": {
    "slideshow": {
     "slide_type": "subslide"
    }
   },
   "source": [
    "# 2) Extract information from text data"
   ]
  },
  {
   "cell_type": "markdown",
   "metadata": {
    "slideshow": {
     "slide_type": "slide"
    }
   },
   "source": [
    "# So... what is NLTK?\n"
   ]
  },
  {
   "cell_type": "markdown",
   "metadata": {
    "slideshow": {
     "slide_type": "slide"
    }
   },
   "source": [
    "<img src=\"res/NLTK.png\"/>\n",
    "[NLTK (Natural Language ToolKit)](http://www.nltk.org)\n",
    "\n",
    "<br/>\n",
    "<b>Hint:</b> Learn python joining our amazing workhops with [@geogarber](https://twitter.com/GeoGarber) at [ResPlat](http://resplat.eventbrite.com) "
   ]
  },
  {
   "cell_type": "markdown",
   "metadata": {
    "slideshow": {
     "slide_type": "slide"
    }
   },
   "source": [
    "## Using NLTK\n",
    "\n",
    "* NLTK ([Natural Language Toolkit](http://www.nltk.org/)) is an external library,  you must import it first to use it: "
   ]
  },
  {
   "cell_type": "code",
   "execution_count": 2,
   "metadata": {
    "slideshow": {
     "slide_type": "fragment"
    }
   },
   "outputs": [],
   "source": [
    "import nltk"
   ]
  },
  {
   "cell_type": "markdown",
   "metadata": {
    "slideshow": {
     "slide_type": "slide"
    }
   },
   "source": [
    "### Access a corpus\n",
    "#### [Corpus](https://en.wikipedia.org/wiki/Text_corpus) = Large and structured set of texts\n"
   ]
  },
  {
   "cell_type": "markdown",
   "metadata": {
    "slideshow": {
     "slide_type": "fragment"
    }
   },
   "source": [
    "NLTK has some [corpus](https://en.wikipedia.org/wiki/Text_corpus) built in. \n",
    "You need to download it in case you haven't done it before:"
   ]
  },
  {
   "cell_type": "code",
   "execution_count": 3,
   "metadata": {
    "slideshow": {
     "slide_type": "fragment"
    }
   },
   "outputs": [
    {
     "name": "stdout",
     "output_type": "stream",
     "text": [
      "[nltk_data] Downloading package product_reviews_1 to\n",
      "[nltk_data]     /Users/danielgil/nltk_data...\n",
      "[nltk_data]   Unzipping corpora/product_reviews_1.zip.\n"
     ]
    },
    {
     "data": {
      "text/plain": [
       "True"
      ]
     },
     "execution_count": 3,
     "metadata": {},
     "output_type": "execute_result"
    }
   ],
   "source": [
    "nltk.download('product_reviews_1')\n"
   ]
  },
  {
   "cell_type": "markdown",
   "metadata": {
    "slideshow": {
     "slide_type": "slide"
    }
   },
   "source": [
    "Let's get the reviews for a particular product, the Nikon Coolpix\n",
    "<img src=\"res/coolpix.jpg\">"
   ]
  },
  {
   "cell_type": "code",
   "execution_count": 4,
   "metadata": {
    "slideshow": {
     "slide_type": "subslide"
    }
   },
   "outputs": [],
   "source": [
    "from nltk.corpus import product_reviews_1\n",
    "camera_reviews = product_reviews_1.reviews('Nikon_coolpix_4300.txt')"
   ]
  },
  {
   "cell_type": "markdown",
   "metadata": {
    "slideshow": {
     "slide_type": "slide"
    }
   },
   "source": [
    "### Preprocess a corpus\n",
    "\n",
    "#### Preprocessing text = Make text ready to be analyzed"
   ]
  },
  {
   "cell_type": "markdown",
   "metadata": {
    "slideshow": {
     "slide_type": "fragment"
    }
   },
   "source": [
    "We will start [tokenizing](https://nlp.stanford.edu/IR-book/html/htmledition/tokenization-1.html) the text to preprocess\n"
   ]
  },
  {
   "cell_type": "markdown",
   "metadata": {
    "slideshow": {
     "slide_type": "slide"
    }
   },
   "source": [
    "##### Tokenization = cut the text into pieces like sentences or words\n",
    "<img src=\"res/token.jpg\"/>\n"
   ]
  },
  {
   "cell_type": "code",
   "execution_count": 5,
   "metadata": {
    "slideshow": {
     "slide_type": "slide"
    }
   },
   "outputs": [
    {
     "data": {
      "text/plain": [
       "['I', 'finally', 'got', 'through', 'the', 'block', 'of', '8', 'papers', 'from']"
      ]
     },
     "execution_count": 5,
     "metadata": {},
     "output_type": "execute_result"
    }
   ],
   "source": [
    "tweet=\"I finally got through the block of 8 papers from one theoretician alone on my reading list. #phdlife #phdchat\"\n",
    "words=nltk.tokenize.word_tokenize(tweet)\n",
    "words[:10]"
   ]
  },
  {
   "cell_type": "markdown",
   "metadata": {
    "slideshow": {
     "slide_type": "fragment"
    }
   },
   "source": [
    "As a result we have a structure of data, called a list. <br/>"
   ]
  },
  {
   "cell_type": "markdown",
   "metadata": {
    "slideshow": {
     "slide_type": "subslide"
    }
   },
   "source": [
    "For today our corpus is already tokenized, we can access the words and find some statistics in this way:"
   ]
  },
  {
   "cell_type": "code",
   "execution_count": 6,
   "metadata": {
    "slideshow": {
     "slide_type": "fragment"
    }
   },
   "outputs": [
    {
     "data": {
      "text/plain": [
       "73832"
      ]
     },
     "execution_count": 6,
     "metadata": {},
     "output_type": "execute_result"
    }
   ],
   "source": [
    "# get all the words from the corpus, this will give us a list containing all the words, \n",
    "# we can use python function len to count the total of words in the corpus.\n",
    "len(product_reviews_1.words())"
   ]
  },
  {
   "cell_type": "markdown",
   "metadata": {
    "slideshow": {
     "slide_type": "fragment"
    }
   },
   "source": [
    "Now, let's see how many unique words we have:"
   ]
  },
  {
   "cell_type": "code",
   "execution_count": 7,
   "metadata": {
    "slideshow": {
     "slide_type": "fragment"
    }
   },
   "outputs": [
    {
     "data": {
      "text/plain": [
       "5200"
      ]
     },
     "execution_count": 7,
     "metadata": {},
     "output_type": "execute_result"
    }
   ],
   "source": [
    "# the python function set will return unique words. This is the lexical diversity of the corpus\n",
    "len(set(product_reviews_1.words()))"
   ]
  },
  {
   "cell_type": "markdown",
   "metadata": {
    "slideshow": {
     "slide_type": "slide"
    }
   },
   "source": [
    "Now, instead of all words, I'm going to filter just the adjectives so we can have less words to use in our analysis"
   ]
  },
  {
   "cell_type": "code",
   "execution_count": 10,
   "metadata": {
    "slideshow": {
     "slide_type": "fragment"
    }
   },
   "outputs": [
    {
     "data": {
      "text/plain": [
       "221"
      ]
     },
     "execution_count": 10,
     "metadata": {},
     "output_type": "execute_result"
    }
   ],
   "source": [
    "adjectives=get_adjectives(camera_reviews) \n",
    "len(set(adjectives))"
   ]
  },
  {
   "cell_type": "markdown",
   "metadata": {
    "slideshow": {
     "slide_type": "slide"
    }
   },
   "source": [
    "### Analyse the text: Find your insights!"
   ]
  },
  {
   "cell_type": "markdown",
   "metadata": {
    "slideshow": {
     "slide_type": "fragment"
    }
   },
   "source": [
    "With the text ready to be analyzed, let NLTK to read and count:"
   ]
  },
  {
   "cell_type": "code",
   "execution_count": 11,
   "metadata": {
    "slideshow": {
     "slide_type": "fragment"
    }
   },
   "outputs": [],
   "source": [
    "fd=nltk.FreqDist(adjectives)"
   ]
  },
  {
   "cell_type": "code",
   "execution_count": 12,
   "metadata": {
    "slideshow": {
     "slide_type": "fragment"
    }
   },
   "outputs": [
    {
     "data": {
      "text/plain": [
       "[('good', 27),\n",
       " ('great', 22),\n",
       " ('digital', 22),\n",
       " ('easy', 17),\n",
       " ('manual', 14),\n",
       " ('many', 14),\n",
       " ('little', 14),\n",
       " ('compact', 13),\n",
       " ('excellent', 12),\n",
       " ('extra', 11)]"
      ]
     },
     "execution_count": 12,
     "metadata": {},
     "output_type": "execute_result"
    }
   ],
   "source": [
    "fd.most_common(10)"
   ]
  },
  {
   "cell_type": "code",
   "execution_count": 14,
   "metadata": {
    "slideshow": {
     "slide_type": "subslide"
    }
   },
   "outputs": [
    {
     "data": {
      "image/png": "[encoded data removed]",
      "text/plain": [
       "<Figure size 432x288 with 1 Axes>"
      ]
     },
     "metadata": {},
     "output_type": "display_data"
    }
   ],
   "source": [
    "fd.plot(10)"
   ]
  },
  {
   "cell_type": "markdown",
   "metadata": {
    "slideshow": {
     "slide_type": "fragment"
    }
   },
   "source": [
    "what does the word \"easy\" mean in this context? "
   ]
  },
  {
   "cell_type": "markdown",
   "metadata": {
    "slideshow": {
     "slide_type": "slide"
    }
   },
   "source": [
    "NLTK can do the the reading for us!"
   ]
  },
  {
   "cell_type": "code",
   "execution_count": 15,
   "metadata": {
    "slideshow": {
     "slide_type": "fragment"
    }
   },
   "outputs": [
    {
     "name": "stdout",
     "output_type": "stream",
     "text": [
      "Displaying 22 of 22 matches:\n",
      "ther . operating its many features is easy and often obvious - i ' m no annie le\n",
      " model reviews were positive . it ' s easy to use , and yet very feature rich . \n",
      " and click , the scene modes are very easy to use and produce good results . the\n",
      "ot s400 . reason for two ? it was not easy sharing one with my teen age kid . th\n",
      "great . the 4300 comes with excellent easy to install software i use it on xp an\n",
      "ouchups , redeye , and so on are very easy to alter , and correct . i definately\n",
      "he nikon coolpix 4300 is wonderful -- easy to use , high quality , and compact i\n",
      ". it takes excellent pics and is very easy to use , if you read the manual . if \n",
      "loads are a snap and quick . controls easy yo use and easy to get to . i ' m ext\n",
      " and quick . controls easy yo use and easy to get to . i ' m extremely glad i bo\n",
      "with the features that it has . it is easy enough to use for a beginner like me \n",
      "h less than many other models ! it is easy to \" focus \" in on the drawbacks , so\n",
      " as well . the menus and features are easy to manipulate and access , and it tak\n",
      "reat camera . i am impressed with how easy this camera is to use . it takes grea\n",
      " takes great pictures . the manual is easy to understand , and it is mostly idio\n",
      "livers a huge bang for the buck . its easy to use and the sheer fun of being abl\n",
      "everything i was looking for . it ' s easy for beginners to use , but has featur\n",
      "oto - enthusiast would want . 2 it is easy enough for my grandmother to use . 3 \n",
      "so well designed that they ' re still easy to use . 4 it has optional lenses lik\n",
      " uses compact flash cards , which are easy to find , cheap , reliable and suppor\n",
      "y . this camera was affordable , very easy to learn , and produces spectacular i\n",
      "u ' re looking for something that ' s easy to use , small good for travel , and \n"
     ]
    }
   ],
   "source": [
    "text=nltk.Text(product_reviews_1.words('Nikon_coolpix_4300.txt'))\n",
    "text.concordance('easy',width=120,lines=25)"
   ]
  },
  {
   "cell_type": "markdown",
   "metadata": {
    "slideshow": {
     "slide_type": "subslide"
    }
   },
   "source": [
    "It seems like you are ready to produce some insights!!!"
   ]
  },
  {
   "cell_type": "markdown",
   "metadata": {
    "slideshow": {
     "slide_type": "slide"
    }
   },
   "source": [
    "# Introducing the challenge\n",
    "I'm the owner of a succesful online store through Amazon Australia and I hired you, a Marketing Research firm to analyse the reviews the customers are writing in Amazon for a particular set of products\n",
    "<img src=\"res/amazon.jpg\" >"
   ]
  },
  {
   "cell_type": "markdown",
   "metadata": {
    "slideshow": {
     "slide_type": "slide"
    }
   },
   "source": [
    "# What we learned today... \n"
   ]
  },
  {
   "cell_type": "markdown",
   "metadata": {
    "slideshow": {
     "slide_type": "slide"
    }
   },
   "source": [
    "NLTK in 2 steps"
   ]
  },
  {
   "cell_type": "markdown",
   "metadata": {
    "slideshow": {
     "slide_type": "slide"
    }
   },
   "source": [
    "## 1) Access and preprocess your text\n",
    "We accessed a default NLTK corpus <br/>"
   ]
  },
  {
   "cell_type": "markdown",
   "metadata": {
    "slideshow": {
     "slide_type": "slide"
    }
   },
   "source": [
    "## 2) Extract information\n",
    "We found some information about the context of the words we were analysing. <br/>"
   ]
  },
  {
   "cell_type": "markdown",
   "metadata": {
    "slideshow": {
     "slide_type": "slide"
    }
   },
   "source": [
    "# If you use TEXT in your research, NLTK is relevant to you. \n",
    "# Come to the next workshop and learn more!\n",
    "https://research.unimelb.edu.au/infrastructure/research-platform-services/training/nltk"
   ]
  },
  {
   "cell_type": "code",
   "execution_count": 16,
   "metadata": {},
   "outputs": [],
   "source": [
    "# additional function to filter words (Not to be explained in the ResPitch)\n",
    "from nltk.corpus import stopwords\n",
    "\n",
    "def get_adjectives(reviews):\n",
    "\n",
    "    stop_words=set(stopwords.words('english'))\n",
    "    adj=[]\n",
    "    for review in reviews:\n",
    "        for sent in review.sents():\n",
    "            tagged_words=nltk.pos_tag(sent)\n",
    "            for word_tag in tagged_words:\n",
    "                if word_tag[1]=='JJ' and word_tag[0] not in stop_words:\n",
    "                    adj.append(word_tag[0].lower())\n",
    "\n",
    "    return adj"
   ]
  },
  {
   "cell_type": "code",
   "execution_count": null,
   "metadata": {},
   "outputs": [],
   "source": []
  }
 ],
 "metadata": {
  "celltoolbar": "Slideshow",
  "kernelspec": {
   "display_name": "Python [conda env:anaconda]",
   "language": "python",
   "name": "conda-env-anaconda-py"
  },
  "language_info": {
   "codemirror_mode": {
    "name": "ipython",
    "version": 3
   },
   "file_extension": ".py",
   "mimetype": "text/x-python",
   "name": "python",
   "nbconvert_exporter": "python",
   "pygments_lexer": "ipython3",
   "version": "3.5.5"
  },
  "latex_envs": {
   "LaTeX_envs_menu_present": true,
   "autoclose": false,
   "autocomplete": true,
   "bibliofile": "biblio.bib",
   "cite_by": "apalike",
   "current_citInitial": 1,
   "eqLabelWithNumbers": true,
   "eqNumInitial": 1,
   "hotkeys": {
    "equation": "Ctrl-E",
    "itemize": "Ctrl-I"
   },
   "labels_anchors": false,
   "latex_user_defs": false,
   "report_style_numbering": false,
   "user_envs_cfg": false
  },
  "toc": {
   "nav_menu": {},
   "number_sections": true,
   "sideBar": true,
   "skip_h1_title": false,
   "title_cell": "Table of Contents",
   "title_sidebar": "Contents",
   "toc_cell": false,
   "toc_position": {},
   "toc_section_display": true,
   "toc_window_display": false
  }
 },
 "nbformat": 4,
 "nbformat_minor": 2
}
