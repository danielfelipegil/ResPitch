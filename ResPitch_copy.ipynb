{
 "cells": [
  {
   "cell_type": "markdown",
   "metadata": {
    "nbpresent": {
     "id": "19f990a8-8f08-45cc-a598-9fe02aea7683"
    },
    "slideshow": {
     "slide_type": "slide"
    }
   },
   "source": [
    "# Natural Language Processing with NLTK\n",
    "\n",
    "Use computers to identify patterns in language and textual data to help you extract insights for your research"
   ]
  },
  {
   "cell_type": "markdown",
   "metadata": {
    "nbpresent": {
     "id": "2ace75cf-bc8b-4991-96c6-136eb6e34a84"
    },
    "slideshow": {
     "slide_type": "slide"
    }
   },
   "source": [
    "## Hi, I'm Daniel... \n",
    "\n",
    "<img src=\"about.jpg\">"
   ]
  },
  {
   "cell_type": "markdown",
   "metadata": {
    "slideshow": {
     "slide_type": "fragment"
    }
   },
   "source": [
    "\"Changing the world through small pieces of software...Understand it through large volume of data\""
   ]
  },
  {
   "cell_type": "markdown",
   "metadata": {
    "slideshow": {
     "slide_type": "slide"
    }
   },
   "source": [
    "## I'm interested in how artificial intelligence will shape the way we will interact with technology."
   ]
  },
  {
   "cell_type": "markdown",
   "metadata": {
    "slideshow": {
     "slide_type": "slide"
    }
   },
   "source": [
    "## Let computers do the reading for you...\n",
    "<img src=\"search2.png\">"
   ]
  },
  {
   "cell_type": "markdown",
   "metadata": {
    "slideshow": {
     "slide_type": "slide"
    }
   },
   "source": [
    "## Can you read a significant amount of books from last centure in short time?"
   ]
  },
  {
   "cell_type": "code",
   "execution_count": null,
   "metadata": {
    "slideshow": {
     "slide_type": "slide"
    }
   },
   "outputs": [],
   "source": [
    "## NLTK can!"
   ]
  },
  {
   "cell_type": "markdown",
   "metadata": {
    "slideshow": {
     "slide_type": "fragment"
    }
   },
   "source": [
    "<img src=\"ngram.png\" >"
   ]
  },
  {
   "cell_type": "markdown",
   "metadata": {
    "slideshow": {
     "slide_type": "slide"
    }
   },
   "source": [
    "## Make machines to make your life easier: expenses tracking... <br/>\n",
    "<img src=\"receipt.jpg\">"
   ]
  },
  {
   "cell_type": "markdown",
   "metadata": {
    "slideshow": {
     "slide_type": "slide"
    }
   },
   "source": [
    "### \"COLES\" = Groceries\n",
    "\n",
    "<img src=\"expenses2.png\" width=\"50%\" height=\"50%\">"
   ]
  },
  {
   "cell_type": "markdown",
   "metadata": {
    "slideshow": {
     "slide_type": "slide"
    }
   },
   "source": [
    "# We read\n",
    "# We write\n",
    "# We listen\n",
    "# We speak"
   ]
  },
  {
   "cell_type": "markdown",
   "metadata": {
    "slideshow": {
     "slide_type": "fragment"
    }
   },
   "source": [
    "This is Natural Language Processing"
   ]
  },
  {
   "cell_type": "markdown",
   "metadata": {
    "slideshow": {
     "slide_type": "slide"
    }
   },
   "source": [
    "\"You can work smarter, let machines work harder\" "
   ]
  },
  {
   "cell_type": "markdown",
   "metadata": {
    "slideshow": {
     "slide_type": "slide"
    }
   },
   "source": [
    "# Introducing the challenge\n",
    "I'm the owner of a succesful online store through Amazon Australia and I hired you, a Marketing Research firm to analyse the reviews the customers are writing in Amazon for a particular set of products\n",
    "<img src=\"amazon.jpg\" >"
   ]
  },
  {
   "cell_type": "markdown",
   "metadata": {
    "slideshow": {
     "slide_type": "slide"
    }
   },
   "source": [
    "## To be able to do this, you will learn some things first. This what you should be able to do after the session:\n",
    "\n"
   ]
  },
  {
   "cell_type": "markdown",
   "metadata": {
    "slideshow": {
     "slide_type": "fragment"
    }
   },
   "source": [
    "Manipulate, categorise and analyse textual data to extract information using computational methods.<br/>\n"
   ]
  },
  {
   "cell_type": "markdown",
   "metadata": {
    "slideshow": {
     "slide_type": "fragment"
    }
   },
   "source": [
    "Particularly: <br/>\n",
    "\n",
    "<img src=\"lo.png\">"
   ]
  },
  {
   "cell_type": "markdown",
   "metadata": {
    "slideshow": {
     "slide_type": "slide"
    }
   },
   "source": [
    "# So... what is NLTK?\n"
   ]
  },
  {
   "cell_type": "markdown",
   "metadata": {
    "slideshow": {
     "slide_type": "fragment"
    }
   },
   "source": [
    "It's NOT trying to understand a baby...\n",
    "<br/>\n",
    "<img src=\"tenor.gif\"/>"
   ]
  },
  {
   "cell_type": "markdown",
   "metadata": {
    "slideshow": {
     "slide_type": "slide"
    }
   },
   "source": [
    "<img src=\"NLTK.png\"/>\n",
    "[NLTK (Natural Language ToolKit)](http://www.nltk.org)\n",
    "\n",
    "<br/>\n",
    "<b>Hint:</b> Learn python joining our amazing workhops with [@geogarber](https://twitter.com/GeoGarber) at [ResPlat](http://resplat.eventbrite.com) "
   ]
  },
  {
   "cell_type": "markdown",
   "metadata": {
    "slideshow": {
     "slide_type": "slide"
    }
   },
   "source": [
    "## The NLP Pyramid\n",
    "The most common NLP tasks build one upon another"
   ]
  },
  {
   "cell_type": "markdown",
   "metadata": {
    "slideshow": {
     "slide_type": "subslide"
    }
   },
   "source": [
    "<img src=\"nlp_tasks.png\"/>"
   ]
  },
  {
   "cell_type": "markdown",
   "metadata": {
    "slideshow": {
     "slide_type": "slide"
    }
   },
   "source": [
    "## Using NLTK\n",
    "\n",
    "* NLTK ([Natural Language Toolkit](http://www.nltk.org/)) is an external library,  you must import it first to use it: "
   ]
  },
  {
   "cell_type": "code",
   "execution_count": 65,
   "metadata": {
    "slideshow": {
     "slide_type": "fragment"
    }
   },
   "outputs": [],
   "source": [
    "import nltk"
   ]
  },
  {
   "cell_type": "markdown",
   "metadata": {
    "slideshow": {
     "slide_type": "slide"
    }
   },
   "source": [
    "### Access a corpus\n",
    "#### [Corpus](https://en.wikipedia.org/wiki/Text_corpus) = Large and structured set of texts\n"
   ]
  },
  {
   "cell_type": "markdown",
   "metadata": {
    "slideshow": {
     "slide_type": "fragment"
    }
   },
   "source": [
    "NLTK has some [corpus](https://en.wikipedia.org/wiki/Text_corpus) built in. \n",
    "You need to download it in case you haven't done it before:"
   ]
  },
  {
   "cell_type": "code",
   "execution_count": 66,
   "metadata": {
    "slideshow": {
     "slide_type": "fragment"
    }
   },
   "outputs": [
    {
     "name": "stdout",
     "output_type": "stream",
     "text": [
      "[nltk_data] Downloading package product_reviews_1 to\n",
      "[nltk_data]     /Users/danielgil/nltk_data...\n",
      "[nltk_data]   Package product_reviews_1 is already up-to-date!\n"
     ]
    },
    {
     "data": {
      "text/plain": [
       "True"
      ]
     },
     "execution_count": 66,
     "metadata": {},
     "output_type": "execute_result"
    }
   ],
   "source": [
    "nltk.download('product_reviews_1')\n"
   ]
  },
  {
   "cell_type": "markdown",
   "metadata": {
    "slideshow": {
     "slide_type": "fragment"
    }
   },
   "source": [
    "The \"product_reviews_1\" dataset contains\n",
    "annotated customer reviews of 5 products from amazon.com."
   ]
  },
  {
   "cell_type": "markdown",
   "metadata": {
    "slideshow": {
     "slide_type": "slide"
    }
   },
   "source": [
    "Let's get the reviews for a particular product, the Nikon Coolpix\n",
    "<img src=\"coolpix.jpg\">"
   ]
  },
  {
   "cell_type": "code",
   "execution_count": 67,
   "metadata": {
    "slideshow": {
     "slide_type": "subslide"
    }
   },
   "outputs": [],
   "source": [
    "from nltk.corpus import product_reviews_1\n",
    "camera_reviews = product_reviews_1.reviews('Nikon_coolpix_4300.txt')"
   ]
  },
  {
   "cell_type": "markdown",
   "metadata": {
    "slideshow": {
     "slide_type": "fragment"
    }
   },
   "source": [
    "The corpora in <b>product_reviews_1</b> contains several products. Let's see all the products available: "
   ]
  },
  {
   "cell_type": "code",
   "execution_count": 68,
   "metadata": {
    "slideshow": {
     "slide_type": "fragment"
    }
   },
   "outputs": [
    {
     "data": {
      "text/plain": [
       "['Apex_AD2600_Progressive_scan_DVD player.txt',\n",
       " 'Canon_G3.txt',\n",
       " 'Creative_Labs_Nomad_Jukebox_Zen_Xtra_40GB.txt',\n",
       " 'Nikon_coolpix_4300.txt',\n",
       " 'Nokia_6610.txt',\n",
       " 'README.txt']"
      ]
     },
     "execution_count": 68,
     "metadata": {},
     "output_type": "execute_result"
    }
   ],
   "source": [
    "product_reviews_1.fileids()"
   ]
  },
  {
   "cell_type": "markdown",
   "metadata": {
    "slideshow": {
     "slide_type": "fragment"
    }
   },
   "source": [
    "<b>Hint: </b>In your research you will have the raw text to analyze, come to the next workshop to see how you can load/access raw text or scrap it from the web"
   ]
  },
  {
   "cell_type": "markdown",
   "metadata": {
    "slideshow": {
     "slide_type": "slide"
    }
   },
   "source": [
    "### Preprocess a corpus\n",
    "\n",
    "#### Preprocessing text = Make text ready to be analyzed"
   ]
  },
  {
   "cell_type": "markdown",
   "metadata": {
    "slideshow": {
     "slide_type": "fragment"
    }
   },
   "source": [
    "[tokenization](https://nlp.stanford.edu/IR-book/html/htmledition/tokenization-1.html) is a handy tool to start preprocessing the text.<br/>Here we will cut the text into pieces like sentences or words.  \n"
   ]
  },
  {
   "cell_type": "markdown",
   "metadata": {
    "slideshow": {
     "slide_type": "slide"
    }
   },
   "source": [
    "<img src=\"tweet.png\" width=\"50%\" height=\"50%\"/>"
   ]
  },
  {
   "cell_type": "code",
   "execution_count": 69,
   "metadata": {
    "slideshow": {
     "slide_type": "slide"
    }
   },
   "outputs": [
    {
     "data": {
      "text/plain": [
       "['I', 'finally', 'got', 'through', 'the', 'block', 'of', '8', 'papers', 'from']"
      ]
     },
     "execution_count": 69,
     "metadata": {},
     "output_type": "execute_result"
    }
   ],
   "source": [
    "tweet=\"I finally got through the block of 8 papers from one theoretician alone on my reading list and, in the process, opened up at least double that many newly discovered papers. I may be a bit loopy. Which direction does the lit review hydra function go? #phdlife #phdchat \"\n",
    "words=nltk.tokenize.word_tokenize(tweet)\n",
    "words[:10]"
   ]
  },
  {
   "cell_type": "markdown",
   "metadata": {
    "slideshow": {
     "slide_type": "fragment"
    }
   },
   "source": [
    "As a result we have a structure of data, called a list. <br/>\n",
    "<b>Hint:</b> In the next workshop I will discuss in detail the most common data structures and tools that python has available."
   ]
  },
  {
   "cell_type": "markdown",
   "metadata": {
    "slideshow": {
     "slide_type": "subslide"
    }
   },
   "source": [
    "For today our corpus is already tokenized, we can access the words and find some statistics in this way:"
   ]
  },
  {
   "cell_type": "code",
   "execution_count": 70,
   "metadata": {
    "slideshow": {
     "slide_type": "fragment"
    }
   },
   "outputs": [
    {
     "data": {
      "text/plain": [
       "73832"
      ]
     },
     "execution_count": 70,
     "metadata": {},
     "output_type": "execute_result"
    }
   ],
   "source": [
    "# get all the words from the corpus, this will give us a list containing all the words, \n",
    "# we can use python function len to count the total of words in the corpus.\n",
    "len(product_reviews_1.words())"
   ]
  },
  {
   "cell_type": "markdown",
   "metadata": {
    "slideshow": {
     "slide_type": "fragment"
    }
   },
   "source": [
    "Now, let's see how many unique words we have:"
   ]
  },
  {
   "cell_type": "code",
   "execution_count": 71,
   "metadata": {
    "slideshow": {
     "slide_type": "fragment"
    }
   },
   "outputs": [
    {
     "data": {
      "text/plain": [
       "5200"
      ]
     },
     "execution_count": 71,
     "metadata": {},
     "output_type": "execute_result"
    }
   ],
   "source": [
    "# the python function set will return unique words. This is the lexical diversity of the corpus\n",
    "len(set(product_reviews_1.words()))"
   ]
  },
  {
   "cell_type": "markdown",
   "metadata": {
    "slideshow": {
     "slide_type": "slide"
    }
   },
   "source": [
    "We are interested in finding what people are saying good or bad about the products, let's make NLTK read the text and count for us."
   ]
  },
  {
   "cell_type": "code",
   "execution_count": 72,
   "metadata": {
    "slideshow": {
     "slide_type": "fragment"
    }
   },
   "outputs": [
    {
     "data": {
      "text/plain": [
       "[('.', 3625),\n",
       " ('the', 3565),\n",
       " (',', 2556),\n",
       " ('i', 1988),\n",
       " ('to', 1657),\n",
       " ('and', 1653),\n",
       " ('a', 1507),\n",
       " ('it', 1457),\n",
       " ('is', 1129),\n",
       " (\"'\", 1092)]"
      ]
     },
     "execution_count": 72,
     "metadata": {},
     "output_type": "execute_result"
    }
   ],
   "source": [
    "fd=nltk.FreqDist(product_reviews_1.words())\n",
    "fd.most_common(10)"
   ]
  },
  {
   "cell_type": "markdown",
   "metadata": {
    "slideshow": {
     "slide_type": "fragment"
    }
   },
   "source": [
    "Do you find it useful? I would say no, because we have words and puntuaction that are not contributing to our analysis. We need to clean the text a little bit from stop words (commonly used words such as \"the\"). "
   ]
  },
  {
   "cell_type": "markdown",
   "metadata": {
    "slideshow": {
     "slide_type": "slide"
    }
   },
   "source": [
    "Using some syntactic analysis, let's get only the adjectives (Part-of-Speech tag - JJ) and normalize the text for my camera reviews"
   ]
  },
  {
   "cell_type": "code",
   "execution_count": 73,
   "metadata": {
    "slideshow": {
     "slide_type": "fragment"
    }
   },
   "outputs": [
    {
     "name": "stdout",
     "output_type": "stream",
     "text": [
      "['perfect', 'enthusiastic', 'razor', 'sharp', 'small', 'light', 'many', 'easy', 'obvious', 'able']\n"
     ]
    }
   ],
   "source": [
    "from nltk.corpus import stopwords\n",
    "stop_words=set(stopwords.words('english'))\n",
    "adj=[]\n",
    "for review in camera_reviews:\n",
    "    for sent in review.sents():\n",
    "        tagged_words=nltk.pos_tag(sent)\n",
    "        for word_tag in tagged_words:\n",
    "            if word_tag[1]=='JJ' and word_tag[0] not in stop_words:\n",
    "                adj.append(word_tag[0].lower())\n",
    "                \n",
    "print(adj[:10])"
   ]
  },
  {
   "cell_type": "markdown",
   "metadata": {
    "slideshow": {
     "slide_type": "slide"
    }
   },
   "source": [
    "### Analyse the text"
   ]
  },
  {
   "cell_type": "markdown",
   "metadata": {
    "slideshow": {
     "slide_type": "fragment"
    }
   },
   "source": [
    "With the text ready to be analyzed, let's make NLTK to read and count again:"
   ]
  },
  {
   "cell_type": "code",
   "execution_count": 74,
   "metadata": {
    "slideshow": {
     "slide_type": "fragment"
    }
   },
   "outputs": [],
   "source": [
    "fd=nltk.FreqDist(adj)"
   ]
  },
  {
   "cell_type": "code",
   "execution_count": 75,
   "metadata": {
    "slideshow": {
     "slide_type": "fragment"
    }
   },
   "outputs": [
    {
     "data": {
      "text/plain": [
       "[('good', 27),\n",
       " ('digital', 22),\n",
       " ('great', 22),\n",
       " ('easy', 17),\n",
       " ('many', 14),\n",
       " ('little', 14),\n",
       " ('manual', 14),\n",
       " ('compact', 13),\n",
       " ('excellent', 12),\n",
       " ('high', 11)]"
      ]
     },
     "execution_count": 75,
     "metadata": {},
     "output_type": "execute_result"
    }
   ],
   "source": [
    "fd.most_common(10)"
   ]
  },
  {
   "cell_type": "code",
   "execution_count": 76,
   "metadata": {
    "slideshow": {
     "slide_type": "subslide"
    }
   },
   "outputs": [
    {
     "data": {
      "image/png": "[encoded data removed]",
      "text/plain": [
       "<Figure size 432x288 with 1 Axes>"
      ]
     },
     "metadata": {},
     "output_type": "display_data"
    }
   ],
   "source": [
    "fd.plot(10)"
   ]
  },
  {
   "cell_type": "markdown",
   "metadata": {
    "slideshow": {
     "slide_type": "fragment"
    }
   },
   "source": [
    "Now, you are probably asking yourself, what do the costumer mean with the word \"easy\"? "
   ]
  },
  {
   "cell_type": "markdown",
   "metadata": {
    "slideshow": {
     "slide_type": "slide"
    }
   },
   "source": [
    "First guess... print the raw text and try to find what we are looking for?"
   ]
  },
  {
   "cell_type": "markdown",
   "metadata": {
    "slideshow": {
     "slide_type": "slide"
    }
   },
   "source": [
    "Mmm... it's hard to inspect the whole text, let's use NLTK built-in functions and see if it makes our life easier"
   ]
  },
  {
   "cell_type": "code",
   "execution_count": 77,
   "metadata": {
    "slideshow": {
     "slide_type": "fragment"
    }
   },
   "outputs": [
    {
     "name": "stdout",
     "output_type": "stream",
     "text": [
      "Displaying 22 of 22 matches:\n",
      "her . operating its many features is easy and often obvious - i ' m no annie l\n",
      "model reviews were positive . it ' s easy to use , and yet very feature rich .\n",
      "and click , the scene modes are very easy to use and produce good results . th\n",
      "t s400 . reason for two ? it was not easy sharing one with my teen age kid . t\n",
      "reat . the 4300 comes with excellent easy to install software i use it on xp a\n",
      "uchups , redeye , and so on are very easy to alter , and correct . i definatel\n",
      "e nikon coolpix 4300 is wonderful -- easy to use , high quality , and compact \n",
      " it takes excellent pics and is very easy to use , if you read the manual . if\n",
      "oads are a snap and quick . controls easy yo use and easy to get to . i ' m ex\n",
      "and quick . controls easy yo use and easy to get to . i ' m extremely glad i b\n",
      "ith the features that it has . it is easy enough to use for a beginner like me\n",
      " less than many other models ! it is easy to \" focus \" in on the drawbacks , s\n",
      "as well . the menus and features are easy to manipulate and access , and it ta\n",
      "eat camera . i am impressed with how easy this camera is to use . it takes gre\n",
      "takes great pictures . the manual is easy to understand , and it is mostly idi\n",
      "ivers a huge bang for the buck . its easy to use and the sheer fun of being ab\n",
      "verything i was looking for . it ' s easy for beginners to use , but has featu\n",
      "to - enthusiast would want . 2 it is easy enough for my grandmother to use . 3\n",
      "o well designed that they ' re still easy to use . 4 it has optional lenses li\n",
      "uses compact flash cards , which are easy to find , cheap , reliable and suppo\n",
      " . this camera was affordable , very easy to learn , and produces spectacular \n",
      " ' re looking for something that ' s easy to use , small good for travel , and\n"
     ]
    }
   ],
   "source": [
    "text=nltk.Text(product_reviews_1.words('Nikon_coolpix_4300.txt'))\n",
    "text.concordance('easy')"
   ]
  },
  {
   "cell_type": "markdown",
   "metadata": {
    "slideshow": {
     "slide_type": "subslide"
    }
   },
   "source": [
    "It seems like you are ready to produce some insights!!!"
   ]
  },
  {
   "cell_type": "markdown",
   "metadata": {
    "slideshow": {
     "slide_type": "slide"
    }
   },
   "source": [
    "# Challenge!\n",
    "It's time to finish the job. \n",
    "As your client I need you to analyze my top 3 products according to revenue reports last quarter. Work one team per product and give me as many insights you find. In particular, I have some specific questions about each product, try to find an answer so I can deliver a report to the board."
   ]
  },
  {
   "cell_type": "markdown",
   "metadata": {
    "slideshow": {
     "slide_type": "slide"
    }
   },
   "source": [
    "# Wrap up!!\n",
    "\n",
    "Nice job!! I will report your insights to the board :)"
   ]
  },
  {
   "cell_type": "markdown",
   "metadata": {
    "slideshow": {
     "slide_type": "slide"
    }
   },
   "source": [
    "Coming back to Natural Language Processing using NLTK we learned great things today..."
   ]
  },
  {
   "cell_type": "markdown",
   "metadata": {
    "slideshow": {
     "slide_type": "slide"
    }
   },
   "source": [
    "## Describe concepts: Our first goal\n",
    "Corpus,  tokenization, Part-of-speech (pos) tagging and concordance. <br/>\n"
   ]
  },
  {
   "cell_type": "markdown",
   "metadata": {
    "slideshow": {
     "slide_type": "slide"
    }
   },
   "source": [
    "## Access and manipulate text\n",
    "We accessed a default NLTK corpus and remove stop words. <br/>"
   ]
  },
  {
   "cell_type": "markdown",
   "metadata": {
    "slideshow": {
     "slide_type": "slide"
    }
   },
   "source": [
    "## Indentify syntactic elements\n",
    "We used Part-of-speech tags to identify adjectives and nouns in the text.<br/>"
   ]
  },
  {
   "cell_type": "markdown",
   "metadata": {
    "slideshow": {
     "slide_type": "slide"
    }
   },
   "source": [
    "## Extract information\n",
    "We found some information about the context of the words we were analysing. <br/>"
   ]
  },
  {
   "cell_type": "markdown",
   "metadata": {
    "slideshow": {
     "slide_type": "slide"
    }
   },
   "source": [
    "# If you use language in your research, NLTK is relevant to you. \n",
    "# Come to the next workshop and learn more!\n",
    "https://research.unimelb.edu.au/infrastructure/research-platform-services/training/nltk"
   ]
  },
  {
   "cell_type": "code",
   "execution_count": null,
   "metadata": {},
   "outputs": [],
   "source": []
  }
 ],
 "metadata": {
  "celltoolbar": "Slideshow",
  "kernelspec": {
   "display_name": "Python [conda env:anaconda]",
   "language": "python",
   "name": "conda-env-anaconda-py"
  },
  "language_info": {
   "codemirror_mode": {
    "name": "ipython",
    "version": 3
   },
   "file_extension": ".py",
   "mimetype": "text/x-python",
   "name": "python",
   "nbconvert_exporter": "python",
   "pygments_lexer": "ipython3",
   "version": "3.5.5"
  },
  "latex_envs": {
   "LaTeX_envs_menu_present": true,
   "autoclose": false,
   "autocomplete": true,
   "bibliofile": "biblio.bib",
   "cite_by": "apalike",
   "current_citInitial": 1,
   "eqLabelWithNumbers": true,
   "eqNumInitial": 1,
   "hotkeys": {
    "equation": "Ctrl-E",
    "itemize": "Ctrl-I"
   },
   "labels_anchors": false,
   "latex_user_defs": false,
   "report_style_numbering": false,
   "user_envs_cfg": false
  },
  "toc": {
   "nav_menu": {},
   "number_sections": true,
   "sideBar": true,
   "skip_h1_title": false,
   "title_cell": "Table of Contents",
   "title_sidebar": "Contents",
   "toc_cell": false,
   "toc_position": {},
   "toc_section_display": true,
   "toc_window_display": false
  }
 },
 "nbformat": 4,
 "nbformat_minor": 2
}
